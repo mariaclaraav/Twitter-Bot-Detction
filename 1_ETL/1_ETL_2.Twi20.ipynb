{
 "cells": [
  {
   "cell_type": "code",
   "execution_count": 75,
   "id": "925c7df2-cbd3-42b0-91fe-a6a754d17319",
   "metadata": {
    "execution": {
     "iopub.execute_input": "2023-10-28T21:47:07.834541Z",
     "iopub.status.busy": "2023-10-28T21:47:07.834213Z",
     "iopub.status.idle": "2023-10-28T21:47:08.516015Z",
     "shell.execute_reply": "2023-10-28T21:47:08.515416Z",
     "shell.execute_reply.started": "2023-10-28T21:47:07.834518Z"
    },
    "tags": []
   },
   "outputs": [],
   "source": [
    "import pandas as pd\n",
    "import sys\n",
    "import numpy as np\n",
    "sys.path.append('../utils')\n",
    "from ETL_utils import*"
   ]
  },
  {
   "cell_type": "markdown",
   "id": "1f064a4a",
   "metadata": {},
   "source": [
    "# Read Data"
   ]
  },
  {
   "cell_type": "code",
   "execution_count": 3,
   "metadata": {},
   "outputs": [],
   "source": [
    "# Lendo cada arquivo parquet\n",
    "df_id_label = pd.read_parquet('../Data/Twi20/ETL/Twi20_label.parquet')\n",
    "df_tweets = pd.read_parquet('../Data/Twi20/ETL/Twi20_tweets.parquet')\n",
    "df_id_neighbor = pd.read_parquet('../Data/Twi20/ETL/Twi20_neighbor.parquet')\n",
    "df_id_domain = pd.read_parquet('../Data/Twi20/ETL/Twi20_domain.parquet')\n",
    "df_profile = pd.read_parquet('../Data/Twi20/ETL/Twi20_profile.parquet')"
   ]
  },
  {
   "cell_type": "markdown",
   "metadata": {},
   "source": [
    "## Twitter User Object Fields\n",
    "\n",
    "Used link: https://developer.twitter.com/en/docs/twitter-api/v1/data-dictionary/object-model/user\n",
    "\n",
    "Below are descriptions of the fields found in a Twitter user object:\n",
    "\n",
    "- **ID (String)**: The string representation of the unique identifier for the User. Should be used instead of the integer id. Example:\n",
    "  - `\"ID\": \"6253282\"`\n",
    "\n",
    "- **name (String)**: The name of the user as they've defined it. This is not necessarily a person’s name. Example:\n",
    "  - `\"name\": \"Twitter API\"`\n",
    "\n",
    "- **screen_name (String)**: The screen name, handle, or alias of the user. Screen names are unique but subject to change. Example:\n",
    "  - `\"screen_name\": \"twitterapi\"`\n",
    "\n",
    "- **location (String)**: Nullable. The user-defined location for the account's profile, which is not guaranteed to be a real location. Example:\n",
    "  - `\"location\": \"San Francisco, CA\"`\n",
    "\n",
    "\n",
    "- **url (String)**: Nullable. A URL provided by the user in association with their profile. Example:\n",
    "  - `\"url\": \"https://developer.twitter.com\"`\n",
    "\n",
    "- **description (String)**: Nullable. A UTF-8 string describing the user's account. Example:\n",
    "  - `\"description\": \"The Real Twitter API.\"`\n",
    "\n",
    "- **protected (Boolean)**: When `true`, indicates that the user has chosen to protect their Tweets. Example:\n",
    "  - `\"protected\": true`\n",
    "\n",
    "- **verified (Boolean)**: When `true`, indicates that the user has a verified account. Example:\n",
    "  - `\"verified\": false`\n",
    "\n",
    "- **followers_count (Int)**: The number of followers the user has. Example:\n",
    "  - `\"followers_count\": 21`\n",
    "\n",
    "- **friends_count (Int)**: The number of users the account is following. Example:\n",
    "  - `\"friends_count\": 32`\n",
    "\n",
    "- **listed_count (Int)**: The number of public lists the user is a member of. Example:\n",
    "  - `\"listed_count\": 9274`\n",
    "\n",
    "- **favourites_count (Int)**: The number of tweets the user has liked in the account’s lifetime. Example:\n",
    "  - `\"favourites_count\": 13`\n",
    "\n",
    "- **statuses_count (Int)**: The number of Tweets, including retweets, issued by the user. Example:\n",
    "  - `\"statuses_count\": 42`\n",
    "\n",
    "- **created_at (String)**: The UTC datetime the user account was created on Twitter. Example:\n",
    "  - `\"created_at\": \"Mon Nov 29 21:18:15 +0000 2010\"`\n",
    "\n",
    "- **profile_banner_url (String)**: A URL pointing to the user's profile banner. Example:\n",
    "  - `\"profile_banner_url\": \"https://si0.twimg.com/profile_banners/819797/1348102824\"`\n",
    "\n",
    "- **profile_image_url_https (String)**: A URL pointing to the user's profile image. Example:\n",
    "  - `\"profile_image_url_https\": \"https://abs.twimg.com/sticky/default_profile_images/default_profile_normal.png\"`\n",
    "\n",
    "- **default_profile (Boolean)**: Indicates if the user has the default theme or background. Example:\n",
    "  - `\"default_profile\": false`\n",
    "\n",
    "- **default_profile_image (Boolean)**: Indicates if the user has the default profile image. Example:\n",
    "  - `\"default_profile_image\": false`\n",
    "\n",
    "- **withheld_in_countries (Array of String)**: Lists country codes where the content is withheld. Example:\n",
    "  - `\"withheld_in_countries\": [\"GR\", \"HK\", \"MY\"]`\n",
    "\n",
    "- **withheld_scope (String)**: Indicates if the content withheld is a \"user.\" Example:\n",
    "  - `\"withheld_scope\": \"user\"`\n"
   ]
  },
  {
   "cell_type": "code",
   "execution_count": 5,
   "metadata": {},
   "outputs": [
    {
     "data": {
      "text/html": [
       "<div>\n",
       "<style scoped>\n",
       "    .dataframe tbody tr th:only-of-type {\n",
       "        vertical-align: middle;\n",
       "    }\n",
       "\n",
       "    .dataframe tbody tr th {\n",
       "        vertical-align: top;\n",
       "    }\n",
       "\n",
       "    .dataframe thead th {\n",
       "        text-align: right;\n",
       "    }\n",
       "</style>\n",
       "<table border=\"1\" class=\"dataframe\">\n",
       "  <thead>\n",
       "    <tr style=\"text-align: right;\">\n",
       "      <th></th>\n",
       "      <th>ID</th>\n",
       "      <th>domain</th>\n",
       "    </tr>\n",
       "  </thead>\n",
       "  <tbody>\n",
       "    <tr>\n",
       "      <th>0</th>\n",
       "      <td>17461978</td>\n",
       "      <td>Politics, Business, Entertainment</td>\n",
       "    </tr>\n",
       "    <tr>\n",
       "      <th>1</th>\n",
       "      <td>1297437077403885568</td>\n",
       "      <td>Politics</td>\n",
       "    </tr>\n",
       "    <tr>\n",
       "      <th>2</th>\n",
       "      <td>17685258</td>\n",
       "      <td>Politics, Entertainment, Sports</td>\n",
       "    </tr>\n",
       "    <tr>\n",
       "      <th>3</th>\n",
       "      <td>15750898</td>\n",
       "      <td>Politics</td>\n",
       "    </tr>\n",
       "    <tr>\n",
       "      <th>4</th>\n",
       "      <td>1659167666</td>\n",
       "      <td>Politics</td>\n",
       "    </tr>\n",
       "    <tr>\n",
       "      <th>...</th>\n",
       "      <td>...</td>\n",
       "      <td>...</td>\n",
       "    </tr>\n",
       "    <tr>\n",
       "      <th>9456</th>\n",
       "      <td>452754350</td>\n",
       "      <td>Sports</td>\n",
       "    </tr>\n",
       "    <tr>\n",
       "      <th>9457</th>\n",
       "      <td>850435801687183360</td>\n",
       "      <td>Sports</td>\n",
       "    </tr>\n",
       "    <tr>\n",
       "      <th>9458</th>\n",
       "      <td>2188795745</td>\n",
       "      <td>Sports</td>\n",
       "    </tr>\n",
       "    <tr>\n",
       "      <th>9459</th>\n",
       "      <td>940687680</td>\n",
       "      <td>Sports</td>\n",
       "    </tr>\n",
       "    <tr>\n",
       "      <th>9460</th>\n",
       "      <td>3385331674</td>\n",
       "      <td>Sports</td>\n",
       "    </tr>\n",
       "  </tbody>\n",
       "</table>\n",
       "<p>9461 rows × 2 columns</p>\n",
       "</div>"
      ],
      "text/plain": [
       "                       ID                             domain\n",
       "0                17461978  Politics, Business, Entertainment\n",
       "1     1297437077403885568                           Politics\n",
       "2                17685258    Politics, Entertainment, Sports\n",
       "3                15750898                           Politics\n",
       "4              1659167666                           Politics\n",
       "...                   ...                                ...\n",
       "9456            452754350                             Sports\n",
       "9457   850435801687183360                             Sports\n",
       "9458           2188795745                             Sports\n",
       "9459            940687680                             Sports\n",
       "9460           3385331674                             Sports\n",
       "\n",
       "[9461 rows x 2 columns]"
      ]
     },
     "execution_count": 5,
     "metadata": {},
     "output_type": "execute_result"
    }
   ],
   "source": [
    "df_id_domain"
   ]
  },
  {
   "cell_type": "markdown",
   "metadata": {},
   "source": [
    "## Columns to maintain\n",
    "\n",
    "- ID\n",
    "- name\n",
    "- screen_name\n",
    "- location\n",
    "- description\n",
    "- protection\n",
    "- followers_count\n",
    "- friends_count\n",
    "- listed_count\n",
    "- favourites_counts\n",
    "- statused_count\n",
    "- created_at\n",
    "- geo_enabled\n",
    "- verified\n",
    "- profile_background_color\n",
    "- profile_background_image_url_https\n",
    "- profile_image_url_https\n",
    "- profile_link_color\n",
    "- profile_sidebar_border_color\n",
    "- profile_sidebar_fill_color\n",
    "- profile_text_color\n",
    "- profile_use_background_image\n",
    "- default_profile\n",
    "- default_profile_image\n",
    "- domain\n",
    "\n",
    "\n",
    "\n",
    "\n",
    "\n",
    "\n"
   ]
  },
  {
   "cell_type": "code",
   "execution_count": 66,
   "metadata": {},
   "outputs": [],
   "source": [
    "columns_to_keep = [\n",
    "    'ID', 'name', 'screen_name', 'location', 'description',\n",
    "    'protected', 'followers_count', 'friends_count', 'listed_count',\n",
    "    'favourites_count', 'statuses_count', 'created_at', 'geo_enabled',\n",
    "    'verified', 'profile_background_color',\n",
    "    'profile_background_image_url_https', 'profile_image_url_https',\n",
    "    'profile_link_color', 'profile_sidebar_border_color',\n",
    "    'profile_sidebar_fill_color', 'profile_text_color',\n",
    "    'profile_use_background_image', 'default_profile',\n",
    "    'default_profile_image']\n",
    "\n",
    "# Filtrando o DataFrame para manter apenas as colunas selecionadas\n",
    "df_profile = df_profile[columns_to_keep]"
   ]
  },
  {
   "cell_type": "code",
   "execution_count": 67,
   "metadata": {},
   "outputs": [
    {
     "name": "stderr",
     "output_type": "stream",
     "text": [
      "C:\\Users\\User\\AppData\\Local\\Temp\\ipykernel_12156\\990591599.py:1: SettingWithCopyWarning: \n",
      "A value is trying to be set on a copy of a slice from a DataFrame.\n",
      "Try using .loc[row_indexer,col_indexer] = value instead\n",
      "\n",
      "See the caveats in the documentation: https://pandas.pydata.org/pandas-docs/stable/user_guide/indexing.html#returning-a-view-versus-a-copy\n",
      "  df_profile['domain'] = df_id_domain['domain']\n"
     ]
    }
   ],
   "source": [
    "df_profile['domain'] = df_id_domain['domain']\n",
    "df_profile['label'] = df_id_label['label']"
   ]
  },
  {
   "cell_type": "markdown",
   "metadata": {},
   "source": [
    "### Convert True/False to Boolean"
   ]
  },
  {
   "cell_type": "code",
   "execution_count": 69,
   "metadata": {},
   "outputs": [],
   "source": [
    "# Lista de colunas que contêm valores booleanos como strings\n",
    "boolean_columns = ['protected', 'geo_enabled', 'verified', \n",
    "    'profile_use_background_image', 'default_profile', \n",
    "    'default_profile_image'\n",
    "]\n",
    "\n",
    "# Função para limpar a string e converter para booleano\n",
    "def clean_and_convert_to_bool(value):\n",
    "    if isinstance(value, str):\n",
    "        return value.strip().lower() == 'true'\n",
    "    return value\n",
    "\n",
    "# Aplicando a função para cada coluna booleana\n",
    "for column in boolean_columns:\n",
    "    df_profile[column] = df_profile[column].apply(clean_and_convert_to_bool)"
   ]
  },
  {
   "cell_type": "code",
   "execution_count": 74,
   "metadata": {},
   "outputs": [
    {
     "name": "stdout",
     "output_type": "stream",
     "text": [
      "Number of rows with empty 'location': 2758\n",
      "Number of rows with empty or blank 'location': 0\n"
     ]
    }
   ],
   "source": [
    "# Assuming your DataFrame is named df\n",
    "rows_with_empty_location = df_profile['location'].apply(lambda x: x.strip() == '').sum()\n",
    "\n",
    "# Or, if by \"empty\" you mean both NaN and empty strings:\n",
    "rows_with_empty_location_or_blank = (df_profile['location'].isna() | (df_profile['location'] == '')).sum()\n",
    "\n",
    "print(f\"Number of rows with empty 'location': {rows_with_empty_location}\")\n",
    "print(f\"Number of rows with empty or blank 'location': {rows_with_empty_location_or_blank}\")"
   ]
  },
  {
   "cell_type": "code",
   "execution_count": 76,
   "metadata": {},
   "outputs": [],
   "source": [
    "df_profile['location'].replace(r'^\\s*$', np.nan, regex=True, inplace=True)"
   ]
  },
  {
   "cell_type": "code",
   "execution_count": 79,
   "metadata": {},
   "outputs": [
    {
     "name": "stdout",
     "output_type": "stream",
     "text": [
      "Number of rows with empty or blank 'location': 2758\n"
     ]
    }
   ],
   "source": [
    "# Or, if by \"empty\" you mean both NaN and empty strings:\n",
    "rows_with_empty_location_or_blank = (df_profile['location'].isna() | (df_profile['location'] == '')).sum()\n",
    "\n",
    "print(f\"Number of rows with empty or blank 'location': {rows_with_empty_location_or_blank}\")"
   ]
  },
  {
   "cell_type": "code",
   "execution_count": 71,
   "metadata": {},
   "outputs": [],
   "source": [
    "df_profile.to_parquet('../Data/Twi20/ETL/ETL2_Twi20_profile.parquet')"
   ]
  }
 ],
 "metadata": {
  "kernelspec": {
   "display_name": "Python 3 (ipykernel)",
   "language": "python",
   "name": "python3"
  },
  "language_info": {
   "codemirror_mode": {
    "name": "ipython",
    "version": 3
   },
   "file_extension": ".py",
   "mimetype": "text/x-python",
   "name": "python",
   "nbconvert_exporter": "python",
   "pygments_lexer": "ipython3",
   "version": "3.11.4"
  }
 },
 "nbformat": 4,
 "nbformat_minor": 5
}
